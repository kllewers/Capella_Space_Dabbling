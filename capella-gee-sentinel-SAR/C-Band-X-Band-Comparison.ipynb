{
 "cells": [
  {
   "cell_type": "markdown",
   "id": "b1f151ac",
   "metadata": {},
   "source": [
    "## Comparing Sentinel C-Band SAR to Capella X-Band SAR (EDA Phase)"
   ]
  },
  {
   "cell_type": "markdown",
   "id": "c55340d0",
   "metadata": {},
   "source": [
    "##### Step 1: Bring Sentinel Data in via the Google Earth Engine Python API and export it as a tif. The top of this repos README has instruction for how to pull data down from Capella's S3 bucket without an account."
   ]
  },
  {
   "cell_type": "code",
   "execution_count": null,
   "id": "daf3f03e",
   "metadata": {},
   "outputs": [],
   "source": [
    "import json, numpy as np\n",
    "from pyproj import Transformer\n",
    "import ee, geemap, rasterio\n",
    "import os\n",
    "\n",
    "ee.Initialize(project='ee-krle4401')\n",
    "\n",
    "# --- 1) Load Capella metadata ---\n",
    "json_path = \"/Users/kitlewers/Capella_SAR_Fun/capella-sar-seg/data/raw/scene_shanghai/CAPELLA_C11_SP_GEO_HH_20250320045730_20250320045802_extended.json\"\n",
    "with open(json_path, \"r\") as f:\n",
    "    meta = json.load(f)\n",
    "\n",
    "# Geotransform (UTM 51N, EPSG:32651)\n",
    "gt = meta[\"collect\"][\"image\"][\"image_geometry\"][\"geotransform\"]\n",
    "rows = int(meta[\"collect\"][\"image\"][\"rows\"])\n",
    "cols = int(meta[\"collect\"][\"image\"][\"columns\"])\n",
    "x0, px_w, rot_x, y0, rot_y, px_h_neg = gt\n",
    "px_h = abs(px_h_neg)\n",
    "\n",
    "# Corners in UTM (no rotation for this product)\n",
    "width_m  = px_w * cols\n",
    "height_m = px_h * rows\n",
    "corners_utm = np.array([\n",
    "    [x0,             y0            ],  # TL\n",
    "    [x0 + width_m,   y0            ],  # TR\n",
    "    [x0 + width_m,   y0 - height_m ],  # BR\n",
    "    [x0,             y0 - height_m ],  # BL\n",
    "    [x0,             y0            ],  # close\n",
    "], dtype=float)\n",
    "\n",
    "# Reproject to lon/lat\n",
    "transformer = Transformer.from_crs(32651, 4326, always_xy=True)\n",
    "lons, lats = transformer.transform(corners_utm[:,0], corners_utm[:,1])\n",
    "footprint_ll = [[float(lon), float(lat)] for lon, lat in zip(lons, lats)]\n",
    "centroid_lon = float(np.mean(lons[:-1])); centroid_lat = float(np.mean(lats[:-1]))\n",
    "\n",
    "# --- 2) Correct center time from JSON ---\n",
    "# Prefer center_pixel.center_time; fall back to start/stop if needed\n",
    "center_iso = (meta.get(\"collect\", {})\n",
    "                  .get(\"image\", {})\n",
    "                  .get(\"center_pixel\", {})\n",
    "                  .get(\"center_time\"))\n",
    "if center_iso is None:\n",
    "    center_iso = meta[\"collect\"][\"start_timestamp\"]  # safe fallback\n",
    "\n",
    "capella_date = ee.Date(center_iso)\n",
    "print(\"Capella center time:\", center_iso)\n",
    "\n",
    "# AOI polygon\n",
    "aoi = ee.Geometry.Polygon([footprint_ll])\n",
    "\n",
    "# --- 3) Find closest Sentinel scene (HH if available, else VV/VH) ---\n",
    "window_days = 180\n",
    "s1_hh = (ee.ImageCollection('COPERNICUS/S1_GRD')\n",
    "         .filterBounds(aoi)\n",
    "         .filterDate(capella_date.advance(-window_days,'day'),\n",
    "                     capella_date.advance(window_days,'day'))\n",
    "         .filter(ee.Filter.listContains('transmitterReceiverPolarisation','HH')))\n",
    "\n",
    "def add_time_diff(img):\n",
    "    return img.set('time_diff_days', img.date().difference(capella_date, 'day').abs())\n",
    "\n",
    "s1_hh_sorted = s1_hh.map(add_time_diff).sort('time_diff_days')\n",
    "\n",
    "if s1_hh_sorted.size().getInfo() > 0:\n",
    "    s1_img  = ee.Image(s1_hh_sorted.first()); s1_band = 'HH'\n",
    "    s1_vis  = {'bands':[s1_band], 'min':-25, 'max':0}\n",
    "    print(\"Closest Sentinel‑1 HH:\", s1_img.date().format().getInfo())\n",
    "else:\n",
    "    s1_iw = (ee.ImageCollection('COPERNICUS/S1_GRD')\n",
    "             .filterBounds(aoi)\n",
    "             .filterDate(capella_date.advance(-window_days,'day'),\n",
    "                         capella_date.advance(window_days,'day'))\n",
    "             .filter(ee.Filter.eq('instrumentMode','IW'))\n",
    "             .sort('system:time_start'))\n",
    "    s1_img = ee.Image(s1_iw.first())\n",
    "    bands  = s1_img.bandNames().getInfo()\n",
    "    s1_band = 'VV' if 'VV' in bands else 'VH'\n",
    "    s1_vis  = {'bands':[s1_band],\n",
    "               'min': -22 if s1_band=='VV' else -27,\n",
    "               'max':   0 if s1_band=='VV' else  -5}\n",
    "    print(\"Closest Sentinel‑1 (IW):\", s1_img.date().format().getInfo(), \"| Band:\", s1_band)\n",
    "\n",
    "# --- 4) Map & local Capella overlay ---\n",
    "Map = geemap.Map(center=[centroid_lat, centroid_lon], zoom=13)\n",
    "Map.addLayer(s1_img.select(s1_band), s1_vis, f\"S1 {s1_band} (closest)\")\n",
    "Map.addLayer(aoi, {'color':'red'}, \"Capella footprint (exact)\")\n",
    "\n",
    "capella_path = \"/Users/kitlewers/Capella_SAR_Fun/capella-sar-seg/outputs/shanghai_hh_db.tif\"  # adjust if needed\n",
    "with rasterio.open(capella_path) as src:\n",
    "    arr = src.read(1, masked=True).compressed()\n",
    "    p2, p98 = np.percentile(arr, [2, 98])\n",
    "\n",
    "Map.add_raster(capella_path, layer_name=\"Capella HH (local dB)\",\n",
    "               vmin=float(p2), vmax=float(p98), opacity=0.65)\n",
    "\n",
    "Map.split_map(left_layer=f\"S1 {s1_band} (closest)\", right_layer=\"Capella HH (local dB)\")\n",
    "project_dir = \"/Users/kitlewers/Capella_SAR_Fun/capella-sar-seg/outputs\"\n",
    "os.makedirs(project_dir, exist_ok=True)\n",
    "out_html = os.path.join(project_dir, \"sentinel_capella_compare.html\")\n",
    "Map.to_html(out_html, title=\"Capella vs Sentinel (aligned)\", width=\"100%\", height=\"820px\")\n",
    "print(\"Saved: sentinel_capella_compare.html\")\n"
   ]
  },
  {
   "cell_type": "markdown",
   "id": "4719337d",
   "metadata": {},
   "source": [
    "#### Since "
   ]
  },
  {
   "cell_type": "code",
   "execution_count": 20,
   "id": "f18b9f24",
   "metadata": {},
   "outputs": [
    {
     "data": {
      "text/html": [
       "\n",
       "            <style>\n",
       "                .geemap-dark {\n",
       "                    --jp-widgets-color: white;\n",
       "                    --jp-widgets-label-color: white;\n",
       "                    --jp-ui-font-color1: white;\n",
       "                    --jp-layout-color2: #454545;\n",
       "                    background-color: #383838;\n",
       "                }\n",
       "\n",
       "                .geemap-dark .jupyter-button {\n",
       "                    --jp-layout-color3: #383838;\n",
       "                }\n",
       "\n",
       "                .geemap-colab {\n",
       "                    background-color: var(--colab-primary-surface-color, white);\n",
       "                }\n",
       "\n",
       "                .geemap-colab .jupyter-button {\n",
       "                    --jp-layout-color3: var(--colab-primary-surface-color, white);\n",
       "                }\n",
       "            </style>\n",
       "            "
      ],
      "text/plain": [
       "<IPython.core.display.HTML object>"
      ]
     },
     "metadata": {},
     "output_type": "display_data"
    },
    {
     "name": "stdout",
     "output_type": "stream",
     "text": [
      "Generating URL ...\n",
      "Downloading data from https://earthengine.googleapis.com/v1/projects/ee-krle4401/thumbnails/c11f635f2e01ccab4f6cab888abc76ff-89748b6141a087e7a9b05167e1dc72a0:getPixels\n",
      "Please wait ...\n",
      "Data downloaded to /Users/kitlewers/Capella_SAR_Fun/capella-sar-seg/outputs/sentinel_capella_roi.tif\n"
     ]
    }
   ],
   "source": [
    "out_tif = os.path.join(project_dir, \"sentinel_capella_roi.tif\")\n",
    "geemap.ee_export_image(\n",
    "    s1_img.select(s1_band).clip(aoi),\n",
    "    filename=out_tif,\n",
    "    scale=10,\n",
    "    region=aoi\n",
    ")\n"
   ]
  },
  {
   "cell_type": "markdown",
   "id": "449870f2",
   "metadata": {},
   "source": [
    "Even just looking between the two, the difference is staggering. It is worth reminding you that these are different bands. \n",
    "\n",
    "<p float=\"left\">\n",
    "  <img src=\"https://raw.githubusercontent.com/kllewers/Capella_Space_Dabbling/main/Sentinel_data.png\" width=\"49%\" />\n",
    "  <img src=\"https://raw.githubusercontent.com/kllewers/Capella_Space_Dabbling/main/Sentinel_Capella_Data.png\" width=\"49%\" />\n",
    "</p>\n"
   ]
  },
  {
   "cell_type": "code",
   "execution_count": null,
   "id": "8a30f634",
   "metadata": {},
   "outputs": [
    {
     "data": {
      "text/html": [
       "\n",
       "            <style>\n",
       "                .geemap-dark {\n",
       "                    --jp-widgets-color: white;\n",
       "                    --jp-widgets-label-color: white;\n",
       "                    --jp-ui-font-color1: white;\n",
       "                    --jp-layout-color2: #454545;\n",
       "                    background-color: #383838;\n",
       "                }\n",
       "\n",
       "                .geemap-dark .jupyter-button {\n",
       "                    --jp-layout-color3: #383838;\n",
       "                }\n",
       "\n",
       "                .geemap-colab {\n",
       "                    background-color: var(--colab-primary-surface-color, white);\n",
       "                }\n",
       "\n",
       "                .geemap-colab .jupyter-button {\n",
       "                    --jp-layout-color3: var(--colab-primary-surface-color, white);\n",
       "                }\n",
       "            </style>\n",
       "            "
      ],
      "text/plain": [
       "<IPython.core.display.HTML object>"
      ]
     },
     "metadata": {},
     "output_type": "display_data"
    }
   ],
   "source": [
    "import numpy as np\n",
    "import rasterio\n",
    "from rasterio.enums import Resampling\n",
    "from rasterio.warp import reproject\n",
    "\n",
    "cap_path = \"/Users/kitlewers/Capella_SAR_Fun/capella-sar-seg/outputs/shanghai_hh_db.tif\"\n",
    "s1_path  = \"/Users/kitlewers/Capella_SAR_Fun/capella-sar-seg/outputs/sentinel_capella_roi.tif\"\n",
    "out_path = \"/Users/kitlewers/Capella_SAR_Fun/capella-sar-seg/outputs/S1_CAP_overlap_stack.tif\"\n",
    "\n",
    "with rasterio.open(cap_path) as cap_src, rasterio.open(s1_path) as s1_src:\n",
    "    # Read Capella as float32\n",
    "    cap_db = cap_src.read(1).astype(\"float32\")\n",
    "    cap_db[cap_db == cap_src.nodata] = np.nan\n",
    "\n",
    "    # Prepare array for Sentinel resampled to Capella grid\n",
    "    s1_db_resamp = np.full((cap_src.height, cap_src.width), np.nan, dtype=\"float32\")\n",
    "\n",
    "    # Reproject Sentinel directly in dB space (quick method, no linear conversion)\n",
    "    reproject(\n",
    "        source=s1_src.read(1).astype(\"float32\"),\n",
    "        destination=s1_db_resamp,\n",
    "        src_transform=s1_src.transform,\n",
    "        src_crs=s1_src.crs,\n",
    "        dst_transform=cap_src.transform,\n",
    "        dst_crs=cap_src.crs,\n",
    "        dst_width=cap_src.width,\n",
    "        dst_height=cap_src.height,\n",
    "        resampling=Resampling.bilinear\n",
    "    )\n",
    "\n",
    "    # Mask invalid and unrealistic values\n",
    "    cap_valid = np.isfinite(cap_db) & (cap_db > -60)\n",
    "    s1_valid  = np.isfinite(s1_db_resamp) & (s1_db_resamp > -60)\n",
    "\n",
    "    both_valid = cap_valid & s1_valid\n",
    "\n",
    "    # Apply mask\n",
    "    cap_overlap = np.where(both_valid, cap_db, np.nan)\n",
    "    s1_overlap  = np.where(both_valid, s1_db_resamp, np.nan)\n",
    "\n",
    "    # Save stack\n",
    "    profile = cap_src.profile\n",
    "    profile.update(count=2, dtype=\"float32\", nodata=np.nan)\n",
    "\n",
    "    with rasterio.open(out_path, \"w\", **profile) as dst:\n",
    "        dst.write(s1_overlap, 1)  # Sentinel (dB)\n",
    "        dst.write(cap_overlap, 2) # Capella (dB)\n",
    "\n",
    "print(\"Wrote:\", out_path)\n"
   ]
  },
  {
   "cell_type": "markdown",
   "id": "700bf401",
   "metadata": {},
   "source": [
    "#### Only look at overlapping pixels in the AOI with that have Data Values"
   ]
  },
  {
   "cell_type": "code",
   "execution_count": null,
   "id": "69241fbc",
   "metadata": {},
   "outputs": [],
   "source": []
  }
 ],
 "metadata": {
  "kernelspec": {
   "display_name": "capella_env",
   "language": "python",
   "name": "python3"
  },
  "language_info": {
   "codemirror_mode": {
    "name": "ipython",
    "version": 3
   },
   "file_extension": ".py",
   "mimetype": "text/x-python",
   "name": "python",
   "nbconvert_exporter": "python",
   "pygments_lexer": "ipython3",
   "version": "3.11.9"
  }
 },
 "nbformat": 4,
 "nbformat_minor": 5
}
