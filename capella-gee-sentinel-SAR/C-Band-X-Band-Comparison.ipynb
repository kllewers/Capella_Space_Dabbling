{
 "cells": [
  {
   "cell_type": "code",
   "execution_count": null,
   "id": "b6531c00",
   "metadata": {},
   "outputs": [
    {
     "name": "stdout",
     "output_type": "stream",
     "text": [
      "HH scenes (any mode): 0\n",
      "HH scenes (IW only): 0\n"
     ]
    },
    {
     "data": {
      "application/vnd.jupyter.widget-view+json": {
       "model_id": "b7062a988b3b4fc8a34d13f527d60efc",
       "version_major": 2,
       "version_minor": 0
      },
      "text/plain": [
       "Map(center=[31.105, 121.325], controls=(WidgetControl(options=['position', 'transparent_bg'], position='toprig…"
      ]
     },
     "execution_count": 4,
     "metadata": {},
     "output_type": "execute_result"
    }
   ],
   "source": [
    "import ee, geemap\n",
    "ee.Initialize(project='ee-krle4401')\n",
    "\n",
    "aoi = ee.Geometry.Rectangle([121.26, 31.06, 121.39, 31.15])\n",
    "capella_date = ee.Date('2025-03-20')  # from your JSON\n",
    "\n",
    "# Search ± 6 months for HH in any mode\n",
    "window_days = 180\n",
    "s1_hh_any = (ee.ImageCollection('COPERNICUS/S1_GRD')\n",
    "    .filterBounds(aoi)\n",
    "    .filterDate(capella_date.advance(-window_days, 'day'),\n",
    "                capella_date.advance(window_days, 'day'))\n",
    "    .filter(ee.Filter.listContains('transmitterReceiverPolarisation', 'HH'))\n",
    ")\n",
    "\n",
    "# Sort by temporal distance to your Capella date\n",
    "def add_time_diff(img):\n",
    "    diff = img.date().difference(capella_date, 'day').abs()\n",
    "    return img.set('time_diff_days', diff)\n",
    "\n",
    "s1_hh_sorted = s1_hh_any.map(add_time_diff).sort('time_diff_days')\n",
    "\n",
    "closest_hh = ee.Image(s1_hh_sorted.first())\n",
    "print(\"Closest HH scene date:\", closest_hh.date().format().getInfo())\n",
    "\n",
    "# Visualize\n",
    "vis = {'bands':['HH'], 'min': -25, 'max': 0}\n",
    "Map = geemap.Map(center=[31.105, 121.325], zoom=12)\n",
    "Map.addLayer(closest_hh.select('HH'), vis, 'Closest Sentinel-1 HH (dB)')\n",
    "Map.addLayer(aoi, {}, 'AOI')\n",
    "Map\n"
   ]
  },
  {
   "cell_type": "markdown",
   "id": "c160650b",
   "metadata": {},
   "source": [
    "#### Get GBIF data for Shanghai in 2024 and 2025"
   ]
  }
 ],
 "metadata": {
  "kernelspec": {
   "display_name": "capella_env",
   "language": "python",
   "name": "python3"
  },
  "language_info": {
   "codemirror_mode": {
    "name": "ipython",
    "version": 3
   },
   "file_extension": ".py",
   "mimetype": "text/x-python",
   "name": "python",
   "nbconvert_exporter": "python",
   "pygments_lexer": "ipython3",
   "version": "3.11.9"
  }
 },
 "nbformat": 4,
 "nbformat_minor": 5
}
