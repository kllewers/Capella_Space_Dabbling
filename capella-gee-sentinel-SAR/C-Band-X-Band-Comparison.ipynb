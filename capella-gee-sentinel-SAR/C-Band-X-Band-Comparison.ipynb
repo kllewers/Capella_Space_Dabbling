{
 "cells": [
  {
   "cell_type": "markdown",
   "id": "b1f151ac",
   "metadata": {},
   "source": [
    "#### Comparing Sentinel C-Band SAR to Capella X-Band SAR"
   ]
  },
  {
   "cell_type": "code",
   "execution_count": 18,
   "id": "daf3f03e",
   "metadata": {},
   "outputs": [
    {
     "data": {
      "text/html": [
       "\n",
       "            <style>\n",
       "                .geemap-dark {\n",
       "                    --jp-widgets-color: white;\n",
       "                    --jp-widgets-label-color: white;\n",
       "                    --jp-ui-font-color1: white;\n",
       "                    --jp-layout-color2: #454545;\n",
       "                    background-color: #383838;\n",
       "                }\n",
       "\n",
       "                .geemap-dark .jupyter-button {\n",
       "                    --jp-layout-color3: #383838;\n",
       "                }\n",
       "\n",
       "                .geemap-colab {\n",
       "                    background-color: var(--colab-primary-surface-color, white);\n",
       "                }\n",
       "\n",
       "                .geemap-colab .jupyter-button {\n",
       "                    --jp-layout-color3: var(--colab-primary-surface-color, white);\n",
       "                }\n",
       "            </style>\n",
       "            "
      ],
      "text/plain": [
       "<IPython.core.display.HTML object>"
      ]
     },
     "metadata": {},
     "output_type": "display_data"
    },
    {
     "name": "stdout",
     "output_type": "stream",
     "text": [
      "Capella center time: 2025-03-20T04:57:46.562000Z\n",
      "Closest Sentinel‑1 HH: 2025-04-11T09:45:46\n"
     ]
    },
    {
     "ename": "KeyboardInterrupt",
     "evalue": "",
     "output_type": "error",
     "traceback": [
      "\u001b[31m---------------------------------------------------------------------------\u001b[39m",
      "\u001b[31mKeyboardInterrupt\u001b[39m                         Traceback (most recent call last)",
      "\u001b[36mCell\u001b[39m\u001b[36m \u001b[39m\u001b[32mIn[18]\u001b[39m\u001b[32m, line 91\u001b[39m\n\u001b[32m     89\u001b[39m capella_path = \u001b[33m\"\u001b[39m\u001b[33m/Users/kitlewers/Capella_SAR_Fun/capella-sar-seg/outputs/shanghai_hh_db.tif\u001b[39m\u001b[33m\"\u001b[39m  \u001b[38;5;66;03m# adjust if needed\u001b[39;00m\n\u001b[32m     90\u001b[39m \u001b[38;5;28;01mwith\u001b[39;00m rasterio.open(capella_path) \u001b[38;5;28;01mas\u001b[39;00m src:\n\u001b[32m---> \u001b[39m\u001b[32m91\u001b[39m     arr = \u001b[43msrc\u001b[49m\u001b[43m.\u001b[49m\u001b[43mread\u001b[49m\u001b[43m(\u001b[49m\u001b[32;43m1\u001b[39;49m\u001b[43m,\u001b[49m\u001b[43m \u001b[49m\u001b[43mmasked\u001b[49m\u001b[43m=\u001b[49m\u001b[38;5;28;43;01mTrue\u001b[39;49;00m\u001b[43m)\u001b[49m\u001b[43m.\u001b[49m\u001b[43mcompressed\u001b[49m\u001b[43m(\u001b[49m\u001b[43m)\u001b[49m\n\u001b[32m     92\u001b[39m     p2, p98 = np.percentile(arr, [\u001b[32m2\u001b[39m, \u001b[32m98\u001b[39m])\n\u001b[32m     94\u001b[39m Map.add_raster(capella_path, layer_name=\u001b[33m\"\u001b[39m\u001b[33mCapella HH (local dB)\u001b[39m\u001b[33m\"\u001b[39m,\n\u001b[32m     95\u001b[39m                vmin=\u001b[38;5;28mfloat\u001b[39m(p2), vmax=\u001b[38;5;28mfloat\u001b[39m(p98), opacity=\u001b[32m0.65\u001b[39m)\n",
      "\u001b[36mFile \u001b[39m\u001b[32m/opt/miniconda3/envs/capella_env/lib/python3.11/site-packages/numpy/ma/core.py:3980\u001b[39m, in \u001b[36mMaskedArray.compressed\u001b[39m\u001b[34m(self)\u001b[39m\n\u001b[32m   3978\u001b[39m data = ndarray.ravel(\u001b[38;5;28mself\u001b[39m._data)\n\u001b[32m   3979\u001b[39m \u001b[38;5;28;01mif\u001b[39;00m \u001b[38;5;28mself\u001b[39m._mask \u001b[38;5;129;01mis\u001b[39;00m \u001b[38;5;129;01mnot\u001b[39;00m nomask:\n\u001b[32m-> \u001b[39m\u001b[32m3980\u001b[39m     data = \u001b[43mdata\u001b[49m\u001b[43m.\u001b[49m\u001b[43mcompress\u001b[49m\u001b[43m(\u001b[49m\u001b[43mnp\u001b[49m\u001b[43m.\u001b[49m\u001b[43mlogical_not\u001b[49m\u001b[43m(\u001b[49m\u001b[43mndarray\u001b[49m\u001b[43m.\u001b[49m\u001b[43mravel\u001b[49m\u001b[43m(\u001b[49m\u001b[38;5;28;43mself\u001b[39;49m\u001b[43m.\u001b[49m\u001b[43m_mask\u001b[49m\u001b[43m)\u001b[49m\u001b[43m)\u001b[49m\u001b[43m)\u001b[49m\n\u001b[32m   3981\u001b[39m \u001b[38;5;28;01mreturn\u001b[39;00m data\n",
      "\u001b[31mKeyboardInterrupt\u001b[39m: "
     ]
    }
   ],
   "source": [
    "import json, numpy as np\n",
    "from pyproj import Transformer\n",
    "import ee, geemap, rasterio\n",
    "import os\n",
    "\n",
    "ee.Initialize(project='ee-krle4401')\n",
    "\n",
    "# --- 1) Load Capella metadata ---\n",
    "json_path = \"/Users/kitlewers/Capella_SAR_Fun/capella-sar-seg/data/raw/scene_shanghai/CAPELLA_C11_SP_GEO_HH_20250320045730_20250320045802_extended.json\"\n",
    "with open(json_path, \"r\") as f:\n",
    "    meta = json.load(f)\n",
    "\n",
    "# Geotransform (UTM 51N, EPSG:32651)\n",
    "gt = meta[\"collect\"][\"image\"][\"image_geometry\"][\"geotransform\"]\n",
    "rows = int(meta[\"collect\"][\"image\"][\"rows\"])\n",
    "cols = int(meta[\"collect\"][\"image\"][\"columns\"])\n",
    "x0, px_w, rot_x, y0, rot_y, px_h_neg = gt\n",
    "px_h = abs(px_h_neg)\n",
    "\n",
    "# Corners in UTM (no rotation for this product)\n",
    "width_m  = px_w * cols\n",
    "height_m = px_h * rows\n",
    "corners_utm = np.array([\n",
    "    [x0,             y0            ],  # TL\n",
    "    [x0 + width_m,   y0            ],  # TR\n",
    "    [x0 + width_m,   y0 - height_m ],  # BR\n",
    "    [x0,             y0 - height_m ],  # BL\n",
    "    [x0,             y0            ],  # close\n",
    "], dtype=float)\n",
    "\n",
    "# Reproject to lon/lat\n",
    "transformer = Transformer.from_crs(32651, 4326, always_xy=True)\n",
    "lons, lats = transformer.transform(corners_utm[:,0], corners_utm[:,1])\n",
    "footprint_ll = [[float(lon), float(lat)] for lon, lat in zip(lons, lats)]\n",
    "centroid_lon = float(np.mean(lons[:-1])); centroid_lat = float(np.mean(lats[:-1]))\n",
    "\n",
    "# --- 2) Correct center time from JSON ---\n",
    "# Prefer center_pixel.center_time; fall back to start/stop if needed\n",
    "center_iso = (meta.get(\"collect\", {})\n",
    "                  .get(\"image\", {})\n",
    "                  .get(\"center_pixel\", {})\n",
    "                  .get(\"center_time\"))\n",
    "if center_iso is None:\n",
    "    center_iso = meta[\"collect\"][\"start_timestamp\"]  # safe fallback\n",
    "\n",
    "capella_date = ee.Date(center_iso)\n",
    "print(\"Capella center time:\", center_iso)\n",
    "\n",
    "# AOI polygon\n",
    "aoi = ee.Geometry.Polygon([footprint_ll])\n",
    "\n",
    "# --- 3) Find closest Sentinel scene (HH if available, else VV/VH) ---\n",
    "window_days = 180\n",
    "s1_hh = (ee.ImageCollection('COPERNICUS/S1_GRD')\n",
    "         .filterBounds(aoi)\n",
    "         .filterDate(capella_date.advance(-window_days,'day'),\n",
    "                     capella_date.advance(window_days,'day'))\n",
    "         .filter(ee.Filter.listContains('transmitterReceiverPolarisation','HH')))\n",
    "\n",
    "def add_time_diff(img):\n",
    "    return img.set('time_diff_days', img.date().difference(capella_date, 'day').abs())\n",
    "\n",
    "s1_hh_sorted = s1_hh.map(add_time_diff).sort('time_diff_days')\n",
    "\n",
    "if s1_hh_sorted.size().getInfo() > 0:\n",
    "    s1_img  = ee.Image(s1_hh_sorted.first()); s1_band = 'HH'\n",
    "    s1_vis  = {'bands':[s1_band], 'min':-25, 'max':0}\n",
    "    print(\"Closest Sentinel‑1 HH:\", s1_img.date().format().getInfo())\n",
    "else:\n",
    "    s1_iw = (ee.ImageCollection('COPERNICUS/S1_GRD')\n",
    "             .filterBounds(aoi)\n",
    "             .filterDate(capella_date.advance(-window_days,'day'),\n",
    "                         capella_date.advance(window_days,'day'))\n",
    "             .filter(ee.Filter.eq('instrumentMode','IW'))\n",
    "             .sort('system:time_start'))\n",
    "    s1_img = ee.Image(s1_iw.first())\n",
    "    bands  = s1_img.bandNames().getInfo()\n",
    "    s1_band = 'VV' if 'VV' in bands else 'VH'\n",
    "    s1_vis  = {'bands':[s1_band],\n",
    "               'min': -22 if s1_band=='VV' else -27,\n",
    "               'max':   0 if s1_band=='VV' else  -5}\n",
    "    print(\"Closest Sentinel‑1 (IW):\", s1_img.date().format().getInfo(), \"| Band:\", s1_band)\n",
    "\n",
    "# --- 4) Map & local Capella overlay ---\n",
    "Map = geemap.Map(center=[centroid_lat, centroid_lon], zoom=13)\n",
    "Map.addLayer(s1_img.select(s1_band), s1_vis, f\"S1 {s1_band} (closest)\")\n",
    "Map.addLayer(aoi, {'color':'red'}, \"Capella footprint (exact)\")\n",
    "\n",
    "capella_path = \"/Users/kitlewers/Capella_SAR_Fun/capella-sar-seg/outputs/shanghai_hh_db.tif\"  # adjust if needed\n",
    "with rasterio.open(capella_path) as src:\n",
    "    arr = src.read(1, masked=True).compressed()\n",
    "    p2, p98 = np.percentile(arr, [2, 98])\n",
    "\n",
    "Map.add_raster(capella_path, layer_name=\"Capella HH (local dB)\",\n",
    "               vmin=float(p2), vmax=float(p98), opacity=0.65)\n",
    "\n",
    "Map.split_map(left_layer=f\"S1 {s1_band} (closest)\", right_layer=\"Capella HH (local dB)\")\n",
    "project_dir = \"/Users/kitlewers/Capella_SAR_Fun/capella-sar-seg/outputs\"\n",
    "os.makedirs(project_dir, exist_ok=True)\n",
    "out_html = os.path.join(project_dir, \"sentinel_capella_compare.html\")\n",
    "Map.to_html(out_html, title=\"Capella vs Sentinel (aligned)\", width=\"100%\", height=\"820px\")\n",
    "print(\"Saved: sentinel_capella_compare.html\")\n"
   ]
  },
  {
   "cell_type": "markdown",
   "id": "449870f2",
   "metadata": {},
   "source": [
    "Even just looking between the two, the difference is staggering. It is worth reminding you that these are different bands. \n",
    "\n",
    "<p float=\"left\">\n",
    "  <img src=\"https://raw.githubusercontent.com/kllewers/Capella_Space_Dabbling/main/Sentinel_data.png\" width=\"49%\" />\n",
    "  <img src=\"https://raw.githubusercontent.com/kllewers/Capella_Space_Dabbling/main/Sentinel_Capella_Data.png\" width=\"49%\" />\n",
    "</p>\n"
   ]
  },
  {
   "cell_type": "code",
   "execution_count": null,
   "id": "9bdad852",
   "metadata": {},
   "outputs": [
    {
     "data": {
      "text/html": [
       "\n",
       "            <style>\n",
       "                .geemap-dark {\n",
       "                    --jp-widgets-color: white;\n",
       "                    --jp-widgets-label-color: white;\n",
       "                    --jp-ui-font-color1: white;\n",
       "                    --jp-layout-color2: #454545;\n",
       "                    background-color: #383838;\n",
       "                }\n",
       "\n",
       "                .geemap-dark .jupyter-button {\n",
       "                    --jp-layout-color3: #383838;\n",
       "                }\n",
       "\n",
       "                .geemap-colab {\n",
       "                    background-color: var(--colab-primary-surface-color, white);\n",
       "                }\n",
       "\n",
       "                .geemap-colab .jupyter-button {\n",
       "                    --jp-layout-color3: var(--colab-primary-surface-color, white);\n",
       "                }\n",
       "            </style>\n",
       "            "
      ],
      "text/plain": [
       "<IPython.core.display.HTML object>"
      ]
     },
     "metadata": {},
     "output_type": "display_data"
    },
    {
     "ename": "AttributeError",
     "evalue": "'Image' object has no attribute 'isFinite'",
     "output_type": "error",
     "traceback": [
      "\u001b[31m---------------------------------------------------------------------------\u001b[39m",
      "\u001b[31mAttributeError\u001b[39m                            Traceback (most recent call last)",
      "\u001b[36mCell\u001b[39m\u001b[36m \u001b[39m\u001b[32mIn[17]\u001b[39m\u001b[32m, line 15\u001b[39m\n\u001b[32m     11\u001b[39m s1_valid  = s1.updateMask(s1).gt(-\u001b[32m60\u001b[39m)\n\u001b[32m     13\u001b[39m \u001b[38;5;66;03m#    - Capella: many products use 0 as nodata; exclude zeros and non-finite; keep >-60 dB sanity.\u001b[39;00m\n\u001b[32m     14\u001b[39m cap_valid = (cap.updateMask(cap.neq(\u001b[32m0\u001b[39m))\n\u001b[32m---> \u001b[39m\u001b[32m15\u001b[39m                 .updateMask(\u001b[43mcap\u001b[49m\u001b[43m.\u001b[49m\u001b[43misFinite\u001b[49m())\n\u001b[32m     16\u001b[39m                 .gt(-\u001b[32m60\u001b[39m))\n\u001b[32m     18\u001b[39m \u001b[38;5;66;03m# 2) Intersection mask: valid in both AND inside AOI\u001b[39;00m\n\u001b[32m     19\u001b[39m roi_mask = ee.Image.constant(\u001b[32m1\u001b[39m).clip(aoi).selfMask()\n",
      "\u001b[31mAttributeError\u001b[39m: 'Image' object has no attribute 'isFinite'"
     ]
    }
   ],
   "source": [
    "import ee\n",
    "ee.Initialize(project='ee-krle4401')\n",
    "\n",
    "# 0) Inputs\n",
    "aoi = ee.Geometry.Polygon([footprint_ll])   # from your earlier code (exact Capella footprint)\n",
    "s1   = s1_img.select([s1_band])             # from your earlier code (closest S1, 'HH' or VV/VH)\n",
    "cap  = ee.Image(\"users/krle4401/capella_hh_20250320_db\").select([0]).rename('CAP')  # 'b1' or 0, adjust if needed\n",
    "\n",
    "# 1) Build masks that exclude nodata for each image\n",
    "#    - Sentinel-1 GRD already has a proper mask outside footprint; keep >-60 dB sanity.\n",
    "s1_valid  = s1.updateMask(s1).gt(-60)\n",
    "\n",
    "#    - Capella: many products use 0 as nodata; exclude zeros and non-finite; keep >-60 dB sanity.\n",
    "cap_valid = (cap.updateMask(cap.neq(0))\n",
    "                .updateMask(cap.isFinite())\n",
    "                .gt(-60))\n",
    "\n",
    "# 2) Intersection mask: valid in both AND inside AOI\n",
    "roi_mask = ee.Image.constant(1).clip(aoi).selfMask()\n",
    "both_mask = s1_valid.mask().And(cap_valid.mask()).And(roi_mask.mask())\n",
    "\n",
    "# 3) Apply the mask to a 2‑band stack (S1, Capella)\n",
    "stack = (s1.rename('S1')\n",
    "         .addBands(cap.rename('CAP'))\n",
    "         .updateMask(both_mask))\n",
    "\n",
    "# 4A) Quick visual check (replace vis ranges if your CAP is not dB)\n",
    "vis = {'min': -25, 'max': 0}\n",
    "Map = geemap.Map(center=[centroid_lat, centroid_lon], zoom=13)\n",
    "Map.addLayer(stack.select('S1'), vis, 'S1 (masked to overlap)')\n",
    "Map.addLayer(stack.select('CAP'), vis, 'Capella (masked to overlap)')\n",
    "Map.addLayer(aoi, {'color':'red'}, 'AOI')\n",
    "Map\n",
    "\n",
    "# 4B) Optional: sample only overlapping valid pixels (e.g., 10k points)\n",
    "samples = (stack.sample(\n",
    "    region=aoi,\n",
    "    scale=10,               # pick analysis scale; or use CAP pixel size (~0.2 m) if you’ve resampled\n",
    "    numPixels=10000,\n",
    "    geometries=False\n",
    "))\n",
    "print('Sample count:', samples.size().getInfo())\n",
    "\n",
    "# 4C) Optional: export the masked 2‑band stack for local analysis\n",
    "task = ee.batch.Export.image.toDrive(\n",
    "    image=stack,\n",
    "    description='S1_CAP_overlap_only',\n",
    "    region=aoi,\n",
    "    scale=10,               # choose common analysis scale\n",
    "    maxPixels=1e13\n",
    ")\n",
    "task.start()\n"
   ]
  },
  {
   "cell_type": "markdown",
   "id": "700bf401",
   "metadata": {},
   "source": [
    "#### Only look at overlapping pixels in the AOI with that have Data Values"
   ]
  },
  {
   "cell_type": "code",
   "execution_count": null,
   "id": "69241fbc",
   "metadata": {},
   "outputs": [],
   "source": []
  }
 ],
 "metadata": {
  "kernelspec": {
   "display_name": "capella_env",
   "language": "python",
   "name": "python3"
  },
  "language_info": {
   "codemirror_mode": {
    "name": "ipython",
    "version": 3
   },
   "file_extension": ".py",
   "mimetype": "text/x-python",
   "name": "python",
   "nbconvert_exporter": "python",
   "pygments_lexer": "ipython3",
   "version": "3.11.9"
  }
 },
 "nbformat": 4,
 "nbformat_minor": 5
}
