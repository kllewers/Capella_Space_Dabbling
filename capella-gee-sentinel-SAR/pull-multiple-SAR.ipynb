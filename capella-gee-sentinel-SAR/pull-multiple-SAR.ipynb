{
 "cells": [
  {
   "cell_type": "code",
   "execution_count": null,
   "id": "b6531c00",
   "metadata": {},
   "outputs": [],
   "source": [
    "import ee \n",
    "import rasterio\n",
    "import folium"
   ]
  },
  {
   "cell_type": "markdown",
   "id": "c160650b",
   "metadata": {},
   "source": [
    "#### Get GBIF data for Shanghai in 2024 and 2025"
   ]
  }
 ],
 "metadata": {
  "kernelspec": {
   "display_name": "capella_env",
   "language": "python",
   "name": "python3"
  },
  "language_info": {
   "codemirror_mode": {
    "name": "ipython",
    "version": 3
   },
   "file_extension": ".py",
   "mimetype": "text/x-python",
   "name": "python",
   "nbconvert_exporter": "python",
   "pygments_lexer": "ipython3",
   "version": "3.11.9"
  }
 },
 "nbformat": 4,
 "nbformat_minor": 5
}
