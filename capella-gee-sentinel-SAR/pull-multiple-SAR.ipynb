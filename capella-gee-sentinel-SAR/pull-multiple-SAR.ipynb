{
 "cells": [
  {
   "cell_type": "code",
   "execution_count": null,
   "id": "b6531c00",
   "metadata": {},
   "outputs": [],
   "source": [
    "import ee \n",
    "import rasterio\n",
    "import folium"
   ]
  },
  {
   "cell_type": "markdown",
   "id": "c160650b",
   "metadata": {},
   "source": [
    "#### Get GBIF data for Shanghai in 2024 and 2025"
   ]
  },
  {
   "cell_type": "code",
   "execution_count": null,
   "id": "81deaf81",
   "metadata": {},
   "outputs": [],
   "source": []
  }
 ],
 "metadata": {
  "language_info": {
   "name": "python"
  }
 },
 "nbformat": 4,
 "nbformat_minor": 5
}
