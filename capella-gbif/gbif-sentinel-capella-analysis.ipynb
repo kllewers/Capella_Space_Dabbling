{
 "cells": [
  {
   "cell_type": "markdown",
   "id": "0acc0c3d",
   "metadata": {},
   "source": [
    "#### Import Packages"
   ]
  },
  {
   "cell_type": "code",
   "execution_count": 1,
   "id": "e0831ca7",
   "metadata": {},
   "outputs": [],
   "source": [
    "import ee\n",
    "import pygbif\n",
    "import rasterio"
   ]
  }
 ],
 "metadata": {
  "kernelspec": {
   "display_name": "capella_env",
   "language": "python",
   "name": "python3"
  },
  "language_info": {
   "codemirror_mode": {
    "name": "ipython",
    "version": 3
   },
   "file_extension": ".py",
   "mimetype": "text/x-python",
   "name": "python",
   "nbconvert_exporter": "python",
   "pygments_lexer": "ipython3",
   "version": "3.11.9"
  }
 },
 "nbformat": 4,
 "nbformat_minor": 5
}
